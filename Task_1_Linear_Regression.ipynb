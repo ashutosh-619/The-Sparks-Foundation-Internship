{
  "nbformat": 4,
  "nbformat_minor": 0,
  "metadata": {
    "colab": {
      "name": "Task_1_Linear_Regression.ipynb",
      "provenance": [],
      "collapsed_sections": [],
      "authorship_tag": "ABX9TyP80DV0gWrQ4kUDyD6ZFR4T",
      "include_colab_link": true
    },
    "kernelspec": {
      "name": "python3",
      "display_name": "Python 3"
    }
  },
  "cells": [
    {
      "cell_type": "markdown",
      "metadata": {
        "id": "view-in-github",
        "colab_type": "text"
      },
      "source": [
        "<a href=\"https://colab.research.google.com/github/ashutosh-619/The-Sparks-Foundation-Internship/blob/main/Task_1_Linear_Regression.ipynb\" target=\"_parent\"><img src=\"https://colab.research.google.com/assets/colab-badge.svg\" alt=\"Open In Colab\"/></a>"
      ]
    },
    {
      "cell_type": "markdown",
      "metadata": {
        "id": "lEaJbEbCdjg5"
      },
      "source": [
        "# **Linear Regression**"
      ]
    },
    {
      "cell_type": "markdown",
      "metadata": {
        "id": "cJ9STUZ6drAX"
      },
      "source": [
        "Linear Regression is a supervised learning algorithm which is mostly used to determine the relationship between one independent variable (predictor) and one dependent variable (response)."
      ]
    },
    {
      "cell_type": "code",
      "metadata": {
        "id": "tffaGxSodYPn"
      },
      "source": [
        "#We start by importing the necessary libraries.\n",
        "import numpy as np                                #For data handling and linear algebra\n",
        "import pandas as pd                               #To deal with dataframes\n",
        "import matplotlib.pyplot as plt                   #For data visualization\n",
        "%matplotlib inline"
      ],
      "execution_count": null,
      "outputs": []
    },
    {
      "cell_type": "code",
      "metadata": {
        "id": "gknSkcYcfYFK",
        "outputId": "a5c64dee-a6aa-4ac6-f7f2-29076f4c5db6",
        "colab": {
          "base_uri": "https://localhost:8080/"
        }
      },
      "source": [
        "#To read a csv file from a url, we make use of the read_csv function from the pandas library.\n",
        "data = pd.read_csv(\"http://bit.ly/w-data\")\n",
        "print(\"Data imported.\")"
      ],
      "execution_count": null,
      "outputs": [
        {
          "output_type": "stream",
          "text": [
            "Data imported.\n"
          ],
          "name": "stdout"
        }
      ]
    },
    {
      "cell_type": "code",
      "metadata": {
        "id": "vGFHGtIuf8mh",
        "outputId": "eedea8b8-959c-4e0c-e8f7-f3f719668fb5",
        "colab": {
          "base_uri": "https://localhost:8080/",
          "height": 195
        }
      },
      "source": [
        "data.head(5)"
      ],
      "execution_count": null,
      "outputs": [
        {
          "output_type": "execute_result",
          "data": {
            "text/html": [
              "<div>\n",
              "<style scoped>\n",
              "    .dataframe tbody tr th:only-of-type {\n",
              "        vertical-align: middle;\n",
              "    }\n",
              "\n",
              "    .dataframe tbody tr th {\n",
              "        vertical-align: top;\n",
              "    }\n",
              "\n",
              "    .dataframe thead th {\n",
              "        text-align: right;\n",
              "    }\n",
              "</style>\n",
              "<table border=\"1\" class=\"dataframe\">\n",
              "  <thead>\n",
              "    <tr style=\"text-align: right;\">\n",
              "      <th></th>\n",
              "      <th>Hours</th>\n",
              "      <th>Scores</th>\n",
              "    </tr>\n",
              "  </thead>\n",
              "  <tbody>\n",
              "    <tr>\n",
              "      <th>0</th>\n",
              "      <td>2.5</td>\n",
              "      <td>21</td>\n",
              "    </tr>\n",
              "    <tr>\n",
              "      <th>1</th>\n",
              "      <td>5.1</td>\n",
              "      <td>47</td>\n",
              "    </tr>\n",
              "    <tr>\n",
              "      <th>2</th>\n",
              "      <td>3.2</td>\n",
              "      <td>27</td>\n",
              "    </tr>\n",
              "    <tr>\n",
              "      <th>3</th>\n",
              "      <td>8.5</td>\n",
              "      <td>75</td>\n",
              "    </tr>\n",
              "    <tr>\n",
              "      <th>4</th>\n",
              "      <td>3.5</td>\n",
              "      <td>30</td>\n",
              "    </tr>\n",
              "  </tbody>\n",
              "</table>\n",
              "</div>"
            ],
            "text/plain": [
              "   Hours  Scores\n",
              "0    2.5      21\n",
              "1    5.1      47\n",
              "2    3.2      27\n",
              "3    8.5      75\n",
              "4    3.5      30"
            ]
          },
          "metadata": {
            "tags": []
          },
          "execution_count": 3
        }
      ]
    },
    {
      "cell_type": "code",
      "metadata": {
        "id": "prHLUHpNgARf",
        "outputId": "a6264d21-b832-4da8-d2bc-e6f3fff190c3",
        "colab": {
          "base_uri": "https://localhost:8080/",
          "height": 296
        }
      },
      "source": [
        "#To visually capture the relationship between the two variables, we make a scatterplot\n",
        "\n",
        "data.plot.scatter('Hours', 'Scores')"
      ],
      "execution_count": null,
      "outputs": [
        {
          "output_type": "execute_result",
          "data": {
            "text/plain": [
              "<matplotlib.axes._subplots.AxesSubplot at 0x7f5207972390>"
            ]
          },
          "metadata": {
            "tags": []
          },
          "execution_count": 4
        },
        {
          "output_type": "display_data",
          "data": {
            "image/png": "[encoded data removed]",
            "text/plain": [
              "<Figure size 432x288 with 1 Axes>"
            ]
          },
          "metadata": {
            "tags": [],
            "needs_background": "light"
          }
        }
      ]
    },
    {
      "cell_type": "code",
      "metadata": {
        "id": "d_L8UYPJhO5S"
      },
      "source": [
        "#As we can see in the above plot, the two variables definitely have a linear relationship between them and hence we can try to fit a Linear Regression model over them."
      ],
      "execution_count": null,
      "outputs": []
    },
    {
      "cell_type": "code",
      "metadata": {
        "id": "p9RK1deVh5PJ"
      },
      "source": [
        "#Next, we separate the data into X and y, basically, into inputs and outputs. y is the dependent variable.\n",
        "X = data.iloc[:, :-1].values\n",
        "y = data.iloc[:, 1].values"
      ],
      "execution_count": null,
      "outputs": []
    },
    {
      "cell_type": "code",
      "metadata": {
        "id": "kQWnYtv9ijtM",
        "outputId": "95427fda-0b2d-495e-b7a3-11668ead159d",
        "colab": {
          "base_uri": "https://localhost:8080/"
        }
      },
      "source": [
        "print(X)"
      ],
      "execution_count": null,
      "outputs": [
        {
          "output_type": "stream",
          "text": [
            "[[2.5]\n",
            " [5.1]\n",
            " [3.2]\n",
            " [8.5]\n",
            " [3.5]\n",
            " [1.5]\n",
            " [9.2]\n",
            " [5.5]\n",
            " [8.3]\n",
            " [2.7]\n",
            " [7.7]\n",
            " [5.9]\n",
            " [4.5]\n",
            " [3.3]\n",
            " [1.1]\n",
            " [8.9]\n",
            " [2.5]\n",
            " [1.9]\n",
            " [6.1]\n",
            " [7.4]\n",
            " [2.7]\n",
            " [4.8]\n",
            " [3.8]\n",
            " [6.9]\n",
            " [7.8]]\n"
          ],
          "name": "stdout"
        }
      ]
    },
    {
      "cell_type": "code",
      "metadata": {
        "id": "g3QmwQyGik_P",
        "outputId": "6d5c2b7b-ab9c-4371-c012-3415e1e465e6",
        "colab": {
          "base_uri": "https://localhost:8080/"
        }
      },
      "source": [
        "print(y)"
      ],
      "execution_count": null,
      "outputs": [
        {
          "output_type": "stream",
          "text": [
            "[21 47 27 75 30 20 88 60 81 25 85 62 41 42 17 95 30 24 67 69 30 54 35 76\n",
            " 86]\n"
          ],
          "name": "stdout"
        }
      ]
    },
    {
      "cell_type": "code",
      "metadata": {
        "id": "TzuT67WFiqic"
      },
      "source": [
        "#We now split our data into train and test sets using sklearn's train_test_split function.\n",
        "from sklearn.model_selection import train_test_split\n",
        "\n",
        "X_train, X_test, y_train, y_test = train_test_split(X, y, test_size=0.2, random_state=59)  #test_size parameters indicates that 20% of the data would be put in the test set."
      ],
      "execution_count": null,
      "outputs": []
    },
    {
      "cell_type": "code",
      "metadata": {
        "id": "Jg-J9i5_jkVM",
        "outputId": "9518a04f-edc6-4dfe-b421-6d7c7a69aa11",
        "colab": {
          "base_uri": "https://localhost:8080/"
        }
      },
      "source": [
        "#Finally, to create our model, we import LinearRegression from sklearn's linear_model module.\n",
        "from sklearn.linear_model import LinearRegression\n",
        "\n",
        "linreg = LinearRegression()        #the default parameters are set.\n",
        "linreg.fit(X_train, y_train)"
      ],
      "execution_count": null,
      "outputs": [
        {
          "output_type": "execute_result",
          "data": {
            "text/plain": [
              "LinearRegression(copy_X=True, fit_intercept=True, n_jobs=None, normalize=False)"
            ]
          },
          "metadata": {
            "tags": []
          },
          "execution_count": 10
        }
      ]
    },
    {
      "cell_type": "code",
      "metadata": {
        "id": "Dj36OLpskNvE",
        "outputId": "886fb187-83c2-438a-b8d4-a1b74560a3de",
        "colab": {
          "base_uri": "https://localhost:8080/"
        }
      },
      "source": [
        "#To obtain the coefficient and the intercept, we make use of .coef_ and .intercept_\n",
        "print(\"Coeffiecent: \", linreg.coef_)\n",
        "print(\"Intercept: \", linreg.intercept_)"
      ],
      "execution_count": null,
      "outputs": [
        {
          "output_type": "stream",
          "text": [
            "Coeffiecent:  [9.72121616]\n",
            "Intercept:  1.9451320503533722\n"
          ],
          "name": "stdout"
        }
      ]
    },
    {
      "cell_type": "code",
      "metadata": {
        "id": "vXOLHnjUn4yS",
        "outputId": "57cea6bf-6854-4f2b-c5f8-498ee8c01ab4",
        "colab": {
          "base_uri": "https://localhost:8080/",
          "height": 265
        }
      },
      "source": [
        "#Now we plot the line along with the points.\n",
        "reg_line = (linreg.coef_ * X) + linreg.intercept_                   #line is of the form y = b1X + b0 where b1 is the coefficient and b0 is the intercept\n",
        "\n",
        "plt.scatter(X, y)\n",
        "plt.plot(X, reg_line)\n",
        "plt.show()"
      ],
      "execution_count": null,
      "outputs": [
        {
          "output_type": "display_data",
          "data": {
            "image/png": "[encoded data removed]",
            "text/plain": [
              "<Figure size 432x288 with 1 Axes>"
            ]
          },
          "metadata": {
            "tags": [],
            "needs_background": "light"
          }
        }
      ]
    },
    {
      "cell_type": "code",
      "metadata": {
        "id": "1qQ5kiPxo1vL"
      },
      "source": [
        "#As it can be observed, the line above seems to be a good fit for a given dataset."
      ],
      "execution_count": null,
      "outputs": []
    },
    {
      "cell_type": "code",
      "metadata": {
        "id": "NcnBzp7SpQCO"
      },
      "source": [
        "#To get an approxiamation as to how well our algorithm did, we first pass the X_test through .predict() and then compare the values obtained to the actual ones.\n",
        "y_pred = linreg.predict(X_test)"
      ],
      "execution_count": null,
      "outputs": []
    },
    {
      "cell_type": "code",
      "metadata": {
        "id": "or9Z0lSLpyp4",
        "outputId": "da6ac850-324b-480d-d0ec-f748fe4c902d",
        "colab": {
          "base_uri": "https://localhost:8080/",
          "height": 195
        }
      },
      "source": [
        "cmp_df = pd.DataFrame({'Actual': y_test, 'Predicted': y_pred})\n",
        "cmp_df"
      ],
      "execution_count": null,
      "outputs": [
        {
          "output_type": "execute_result",
          "data": {
            "text/html": [
              "<div>\n",
              "<style scoped>\n",
              "    .dataframe tbody tr th:only-of-type {\n",
              "        vertical-align: middle;\n",
              "    }\n",
              "\n",
              "    .dataframe tbody tr th {\n",
              "        vertical-align: top;\n",
              "    }\n",
              "\n",
              "    .dataframe thead th {\n",
              "        text-align: right;\n",
              "    }\n",
              "</style>\n",
              "<table border=\"1\" class=\"dataframe\">\n",
              "  <thead>\n",
              "    <tr style=\"text-align: right;\">\n",
              "      <th></th>\n",
              "      <th>Actual</th>\n",
              "      <th>Predicted</th>\n",
              "    </tr>\n",
              "  </thead>\n",
              "  <tbody>\n",
              "    <tr>\n",
              "      <th>0</th>\n",
              "      <td>81</td>\n",
              "      <td>82.631226</td>\n",
              "    </tr>\n",
              "    <tr>\n",
              "      <th>1</th>\n",
              "      <td>60</td>\n",
              "      <td>55.411821</td>\n",
              "    </tr>\n",
              "    <tr>\n",
              "      <th>2</th>\n",
              "      <td>30</td>\n",
              "      <td>26.248172</td>\n",
              "    </tr>\n",
              "    <tr>\n",
              "      <th>3</th>\n",
              "      <td>54</td>\n",
              "      <td>48.606970</td>\n",
              "    </tr>\n",
              "    <tr>\n",
              "      <th>4</th>\n",
              "      <td>85</td>\n",
              "      <td>76.798496</td>\n",
              "    </tr>\n",
              "  </tbody>\n",
              "</table>\n",
              "</div>"
            ],
            "text/plain": [
              "   Actual  Predicted\n",
              "0      81  82.631226\n",
              "1      60  55.411821\n",
              "2      30  26.248172\n",
              "3      54  48.606970\n",
              "4      85  76.798496"
            ]
          },
          "metadata": {
            "tags": []
          },
          "execution_count": 15
        }
      ]
    },
    {
      "cell_type": "code",
      "metadata": {
        "id": "WUcWdhHEp9sn",
        "outputId": "17f4d12a-9990-444d-8b78-511aee6acb13",
        "colab": {
          "base_uri": "https://localhost:8080/"
        }
      },
      "source": [
        "#As we can see, our model did a good job in fitting the line.\n",
        "#Now we can also use our line for making predictions on our own data.\n",
        "hrs = [[9.25]]\n",
        "pred = linreg.predict(hrs)\n",
        "print(\"Number of hours: \", hrs)\n",
        "print(\"Predicted score: \", pred)"
      ],
      "execution_count": null,
      "outputs": [
        {
          "output_type": "stream",
          "text": [
            "Number of hours:  [[9.25]]\n",
            "Predicted score:  [91.86638149]\n"
          ],
          "name": "stdout"
        }
      ]
    },
    {
      "cell_type": "code",
      "metadata": {
        "id": "MaM3uHxLJ_qg",
        "outputId": "7f083cdc-babe-42ed-a145-e27428d08745",
        "colab": {
          "base_uri": "https://localhost:8080/"
        }
      },
      "source": [
        "#Finally we can evaluate our model using metrics from sklearn\n",
        "from sklearn.metrics import mean_absolute_error, mean_squared_error, r2_score\n",
        "print(\"Mean Absolute Error: \",mean_absolute_error(y_test, y_pred))\n",
        "print(\"Mean Squared Error: \",mean_squared_error(y_test, y_pred))\n",
        "print(\"R2 Score: \",r2_score(y_test, y_pred))"
      ],
      "execution_count": null,
      "outputs": [
        {
          "output_type": "stream",
          "text": [
            "Mean Absolute Error:  4.7131533506920755\n",
            "Mean Squared Error:  26.827586729996607\n",
            "R2 Score:  0.9323219305499582\n"
          ],
          "name": "stdout"
        }
      ]
    },
    {
      "cell_type": "code",
      "metadata": {
        "id": "qq68mx-7M_xq"
      },
      "source": [
        ""
      ],
      "execution_count": null,
      "outputs": []
    }
  ]
}